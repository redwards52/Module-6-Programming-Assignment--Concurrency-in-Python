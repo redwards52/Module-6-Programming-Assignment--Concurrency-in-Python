{
 "cells": [
  {
   "cell_type": "code",
   "execution_count": 4,
   "id": "0634d90f-b671-49f7-a239-fef34add096b",
   "metadata": {},
   "outputs": [
    {
     "data": {
      "text/plain": [
       "'\\nAuthor: Regine\\nsource: current_time.py\\n'"
      ]
     },
     "execution_count": 4,
     "metadata": {},
     "output_type": "execute_result"
    }
   ],
   "source": [
    "\"\"\"\n",
    "Author: Regine\n",
    "source: current_time.py\n",
    "\"\"\""
   ]
  },
  {
   "cell_type": "code",
   "execution_count": 5,
   "id": "10bfcc5d-2077-4fcd-b13f-3ba234b15e4b",
   "metadata": {},
   "outputs": [],
   "source": [
    "from datetime import datetime\n",
    "import time\n",
    "\n",
    "# Get the today's date\n",
    "now = datetime.now().strftime(\"%Y-%m-%d\")\n",
    "\n",
    "# Write the today's date to today.txt\n",
    "with open(\"today.txt\", \"w\") as file:\n",
    "    file.write(now)\n"
   ]
  },
  {
   "cell_type": "code",
   "execution_count": 6,
   "id": "8c651fac-70ef-4136-84e4-e2481c61d778",
   "metadata": {},
   "outputs": [],
   "source": [
    "from datetime import datetime\n",
    "import time\n",
    "\n",
    "# Get the today's date\n",
    "now = datetime.now().strftime(\"%Y-%m-%d\")\n",
    "\n",
    "# Write the today's date to today.txt\n",
    "with open(\"today.txt\", \"w\") as file:\n",
    "    file.write(now)\n",
    "\n",
    "# Read the text file\n",
    "with open(\"today.txt\", \"r\") as file:\n",
    "    today_string = file.read()"
   ]
  },
  {
   "cell_type": "code",
   "execution_count": 7,
   "id": "315eb36f-f854-4eb8-9206-02e6494b9878",
   "metadata": {},
   "outputs": [
    {
     "name": "stdout",
     "output_type": "stream",
     "text": [
      "2024-12-01 00:00:00\n"
     ]
    }
   ],
   "source": [
    "# Convert string\n",
    "today_string = \"2024-12-01\"  # Example value\n",
    "\n",
    "# Parse string into a date object\n",
    "parsed_date = datetime.strptime(today_string, \"%Y-%m-%d\")\n",
    "\n",
    "print(parsed_date)\n"
   ]
  },
  {
   "cell_type": "code",
   "execution_count": null,
   "id": "a1923625-09bc-4c56-91d0-21714df1b2a6",
   "metadata": {},
   "outputs": [],
   "source": []
  }
 ],
 "metadata": {
  "kernelspec": {
   "display_name": "Python 3 (ipykernel)",
   "language": "python",
   "name": "python3"
  },
  "language_info": {
   "codemirror_mode": {
    "name": "ipython",
    "version": 3
   },
   "file_extension": ".py",
   "mimetype": "text/x-python",
   "name": "python",
   "nbconvert_exporter": "python",
   "pygments_lexer": "ipython3",
   "version": "3.12.7"
  }
 },
 "nbformat": 4,
 "nbformat_minor": 5
}
