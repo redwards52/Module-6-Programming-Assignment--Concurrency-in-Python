{
 "cells": [
  {
   "cell_type": "code",
   "execution_count": null,
   "id": "75a95c9b-c847-4223-b50b-451a2c1a33dd",
   "metadata": {},
   "outputs": [],
   "source": [
    "import random\n",
    "import time\n",
    "import multiprocessing\n",
    "from datetime import datetime\n",
    "\n",
    "def worker():\n",
    "    \"\"\"Worker function to wait, print the current time, and exit.\"\"\"\n",
    "    wait_time = random.uniform(0, 1)  # Generate a random wait time between 0 and 1 second\n",
    "    time.sleep(wait_time)  # Wait for the random amount of time\n",
    "    print(f\"Process {multiprocessing.current_process().name} - Time: {datetime.now()}\")"
   ]
  },
  {
   "cell_type": "code",
   "execution_count": null,
   "id": "33c0ece3-20d4-4fdb-af42-859e23ec4fd9",
   "metadata": {},
   "outputs": [],
   "source": [
    "if __name__ == \"__main__\":\n",
    "    # Make three different processes\n",
    "    processes = []\n",
    "    for i in range(3):\n",
    "        process = multiprocessing.Process(target=worker, name=f\"Process-{i+1}\")\n",
    "        processes.append(process)\n",
    "        process.start()  # Start the process\n",
    "\n",
    "    # Wait until full completion is made by all of the processes\n",
    "    for process in processes:\n",
    "        process.join()"
   ]
  }
 ],
 "metadata": {
  "kernelspec": {
   "display_name": "Python 3 (ipykernel)",
   "language": "python",
   "name": "python3"
  },
  "language_info": {
   "codemirror_mode": {
    "name": "ipython",
    "version": 3
   },
   "file_extension": ".py",
   "mimetype": "text/x-python",
   "name": "python",
   "nbconvert_exporter": "python",
   "pygments_lexer": "ipython3",
   "version": "3.12.7"
  }
 },
 "nbformat": 4,
 "nbformat_minor": 5
}
